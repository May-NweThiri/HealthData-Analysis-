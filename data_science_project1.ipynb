{
 "cells": [
  {
   "cell_type": "markdown",
   "id": "200fd2df-8552-44d6-b201-8dac66a86966",
   "metadata": {},
   "source": [
    "Linear Regression "
   ]
  },
  {
   "cell_type": "code",
   "execution_count": 18,
   "id": "e9d982c8-bc42-48c2-8c26-ab6b7e9285b7",
   "metadata": {},
   "outputs": [],
   "source": [
    "#Import Libraries \n",
    "import pandas as pd\n",
    "import numpy as np\n",
    "import matplotlib.pyplot as plt\n",
    "from scipy import stats\n",
    "\n"
   ]
  },
  {
   "cell_type": "code",
   "execution_count": 19,
   "id": "a39b83a9-6696-42e3-821b-c6a4f6b74872",
   "metadata": {},
   "outputs": [],
   "source": [
    "#Import and read Data\n",
    "full_health_data = pd.read_csv(\"data.csv\", header=0, sep=\",\")"
   ]
  },
  {
   "cell_type": "code",
   "execution_count": 20,
   "id": "d01b6287-527e-45a6-a72d-02defb026a34",
   "metadata": {},
   "outputs": [
    {
     "name": "stdout",
     "output_type": "stream",
     "text": [
      "Columns:  6\n",
      "Rows:  163\n"
     ]
    }
   ],
   "source": [
    "# Counting columns and rows\n",
    "count_data_column = full_health_data.shape[1]\n",
    "print(\"Columns: \", count_data_column)\n",
    "count_data_row= full_health_data.shape[0]\n",
    "print(\"Rows: \", count_data_row)"
   ]
  },
  {
   "cell_type": "code",
   "execution_count": 23,
   "id": "5e31592d-d18a-4a7d-8a79-412f5c013f43",
   "metadata": {},
   "outputs": [
    {
     "data": {
      "text/html": [
       "<div>\n",
       "<style scoped>\n",
       "    .dataframe tbody tr th:only-of-type {\n",
       "        vertical-align: middle;\n",
       "    }\n",
       "\n",
       "    .dataframe tbody tr th {\n",
       "        vertical-align: top;\n",
       "    }\n",
       "\n",
       "    .dataframe thead th {\n",
       "        text-align: right;\n",
       "    }\n",
       "</style>\n",
       "<table border=\"1\" class=\"dataframe\">\n",
       "  <thead>\n",
       "    <tr style=\"text-align: right;\">\n",
       "      <th></th>\n",
       "      <th>Duration</th>\n",
       "      <th>Average_Pulse</th>\n",
       "      <th>Max_Pulse</th>\n",
       "      <th>Calorie_Burnage</th>\n",
       "      <th>Hours_Work</th>\n",
       "      <th>Hours_Sleep</th>\n",
       "    </tr>\n",
       "  </thead>\n",
       "  <tbody>\n",
       "    <tr>\n",
       "      <th>0</th>\n",
       "      <td>60</td>\n",
       "      <td>110</td>\n",
       "      <td>130</td>\n",
       "      <td>409</td>\n",
       "      <td>0.0</td>\n",
       "      <td>8.0</td>\n",
       "    </tr>\n",
       "    <tr>\n",
       "      <th>1</th>\n",
       "      <td>60</td>\n",
       "      <td>117</td>\n",
       "      <td>145</td>\n",
       "      <td>479</td>\n",
       "      <td>0.0</td>\n",
       "      <td>8.0</td>\n",
       "    </tr>\n",
       "    <tr>\n",
       "      <th>2</th>\n",
       "      <td>60</td>\n",
       "      <td>103</td>\n",
       "      <td>135</td>\n",
       "      <td>340</td>\n",
       "      <td>8.0</td>\n",
       "      <td>7.5</td>\n",
       "    </tr>\n",
       "    <tr>\n",
       "      <th>3</th>\n",
       "      <td>45</td>\n",
       "      <td>109</td>\n",
       "      <td>175</td>\n",
       "      <td>282</td>\n",
       "      <td>8.0</td>\n",
       "      <td>8.0</td>\n",
       "    </tr>\n",
       "    <tr>\n",
       "      <th>4</th>\n",
       "      <td>45</td>\n",
       "      <td>117</td>\n",
       "      <td>148</td>\n",
       "      <td>406</td>\n",
       "      <td>0.0</td>\n",
       "      <td>6.5</td>\n",
       "    </tr>\n",
       "    <tr>\n",
       "      <th>5</th>\n",
       "      <td>60</td>\n",
       "      <td>102</td>\n",
       "      <td>127</td>\n",
       "      <td>300</td>\n",
       "      <td>0.0</td>\n",
       "      <td>7.5</td>\n",
       "    </tr>\n",
       "    <tr>\n",
       "      <th>6</th>\n",
       "      <td>60</td>\n",
       "      <td>110</td>\n",
       "      <td>136</td>\n",
       "      <td>374</td>\n",
       "      <td>0.0</td>\n",
       "      <td>7.5</td>\n",
       "    </tr>\n",
       "    <tr>\n",
       "      <th>7</th>\n",
       "      <td>45</td>\n",
       "      <td>104</td>\n",
       "      <td>134</td>\n",
       "      <td>253</td>\n",
       "      <td>0.0</td>\n",
       "      <td>9.0</td>\n",
       "    </tr>\n",
       "    <tr>\n",
       "      <th>8</th>\n",
       "      <td>30</td>\n",
       "      <td>109</td>\n",
       "      <td>133</td>\n",
       "      <td>195</td>\n",
       "      <td>8.0</td>\n",
       "      <td>8.0</td>\n",
       "    </tr>\n",
       "    <tr>\n",
       "      <th>9</th>\n",
       "      <td>60</td>\n",
       "      <td>98</td>\n",
       "      <td>124</td>\n",
       "      <td>269</td>\n",
       "      <td>7.5</td>\n",
       "      <td>8.0</td>\n",
       "    </tr>\n",
       "    <tr>\n",
       "      <th>10</th>\n",
       "      <td>60</td>\n",
       "      <td>103</td>\n",
       "      <td>147</td>\n",
       "      <td>329</td>\n",
       "      <td>8.0</td>\n",
       "      <td>7.0</td>\n",
       "    </tr>\n",
       "    <tr>\n",
       "      <th>11</th>\n",
       "      <td>60</td>\n",
       "      <td>100</td>\n",
       "      <td>120</td>\n",
       "      <td>250</td>\n",
       "      <td>0.0</td>\n",
       "      <td>5.0</td>\n",
       "    </tr>\n",
       "    <tr>\n",
       "      <th>12</th>\n",
       "      <td>60</td>\n",
       "      <td>106</td>\n",
       "      <td>128</td>\n",
       "      <td>345</td>\n",
       "      <td>8.5</td>\n",
       "      <td>7.5</td>\n",
       "    </tr>\n",
       "    <tr>\n",
       "      <th>13</th>\n",
       "      <td>60</td>\n",
       "      <td>104</td>\n",
       "      <td>132</td>\n",
       "      <td>379</td>\n",
       "      <td>8.5</td>\n",
       "      <td>7.5</td>\n",
       "    </tr>\n",
       "    <tr>\n",
       "      <th>14</th>\n",
       "      <td>60</td>\n",
       "      <td>98</td>\n",
       "      <td>123</td>\n",
       "      <td>275</td>\n",
       "      <td>9.0</td>\n",
       "      <td>7.0</td>\n",
       "    </tr>\n",
       "    <tr>\n",
       "      <th>15</th>\n",
       "      <td>60</td>\n",
       "      <td>98</td>\n",
       "      <td>120</td>\n",
       "      <td>215</td>\n",
       "      <td>6.5</td>\n",
       "      <td>7.0</td>\n",
       "    </tr>\n",
       "    <tr>\n",
       "      <th>16</th>\n",
       "      <td>60</td>\n",
       "      <td>100</td>\n",
       "      <td>120</td>\n",
       "      <td>300</td>\n",
       "      <td>9.0</td>\n",
       "      <td>8.0</td>\n",
       "    </tr>\n",
       "    <tr>\n",
       "      <th>17</th>\n",
       "      <td>45</td>\n",
       "      <td>90</td>\n",
       "      <td>112</td>\n",
       "      <td>180</td>\n",
       "      <td>8.0</td>\n",
       "      <td>8.0</td>\n",
       "    </tr>\n",
       "    <tr>\n",
       "      <th>18</th>\n",
       "      <td>60</td>\n",
       "      <td>103</td>\n",
       "      <td>123</td>\n",
       "      <td>323</td>\n",
       "      <td>8.0</td>\n",
       "      <td>8.0</td>\n",
       "    </tr>\n",
       "    <tr>\n",
       "      <th>19</th>\n",
       "      <td>45</td>\n",
       "      <td>97</td>\n",
       "      <td>125</td>\n",
       "      <td>243</td>\n",
       "      <td>8.0</td>\n",
       "      <td>7.0</td>\n",
       "    </tr>\n",
       "  </tbody>\n",
       "</table>\n",
       "</div>"
      ],
      "text/plain": [
       "    Duration  Average_Pulse  Max_Pulse  Calorie_Burnage  Hours_Work  \\\n",
       "0         60            110        130              409         0.0   \n",
       "1         60            117        145              479         0.0   \n",
       "2         60            103        135              340         8.0   \n",
       "3         45            109        175              282         8.0   \n",
       "4         45            117        148              406         0.0   \n",
       "5         60            102        127              300         0.0   \n",
       "6         60            110        136              374         0.0   \n",
       "7         45            104        134              253         0.0   \n",
       "8         30            109        133              195         8.0   \n",
       "9         60             98        124              269         7.5   \n",
       "10        60            103        147              329         8.0   \n",
       "11        60            100        120              250         0.0   \n",
       "12        60            106        128              345         8.5   \n",
       "13        60            104        132              379         8.5   \n",
       "14        60             98        123              275         9.0   \n",
       "15        60             98        120              215         6.5   \n",
       "16        60            100        120              300         9.0   \n",
       "17        45             90        112              180         8.0   \n",
       "18        60            103        123              323         8.0   \n",
       "19        45             97        125              243         8.0   \n",
       "\n",
       "    Hours_Sleep  \n",
       "0           8.0  \n",
       "1           8.0  \n",
       "2           7.5  \n",
       "3           8.0  \n",
       "4           6.5  \n",
       "5           7.5  \n",
       "6           7.5  \n",
       "7           9.0  \n",
       "8           8.0  \n",
       "9           8.0  \n",
       "10          7.0  \n",
       "11          5.0  \n",
       "12          7.5  \n",
       "13          7.5  \n",
       "14          7.0  \n",
       "15          7.0  \n",
       "16          8.0  \n",
       "17          8.0  \n",
       "18          8.0  \n",
       "19          7.0  "
      ]
     },
     "execution_count": 23,
     "metadata": {},
     "output_type": "execute_result"
    }
   ],
   "source": [
    "#Display the first 10 rows of DataFrame as a table\n",
    "full_health_data.head(20)"
   ]
  },
  {
   "cell_type": "markdown",
   "id": "800cf975-213e-48e8-9bc1-f9495c8d71a3",
   "metadata": {},
   "source": [
    "Data Cleaning"
   ]
  },
  {
   "cell_type": "code",
   "execution_count": 25,
   "id": "7ede9c03-9cae-44c7-a69c-e00980775ac8",
   "metadata": {},
   "outputs": [
    {
     "name": "stdout",
     "output_type": "stream",
     "text": [
      "<class 'pandas.core.frame.DataFrame'>\n",
      "RangeIndex: 163 entries, 0 to 162\n",
      "Data columns (total 6 columns):\n",
      " #   Column           Non-Null Count  Dtype  \n",
      "---  ------           --------------  -----  \n",
      " 0   Duration         163 non-null    int64  \n",
      " 1   Average_Pulse    163 non-null    int64  \n",
      " 2   Max_Pulse        163 non-null    int64  \n",
      " 3   Calorie_Burnage  163 non-null    int64  \n",
      " 4   Hours_Work       163 non-null    float64\n",
      " 5   Hours_Sleep      163 non-null    float64\n",
      "dtypes: float64(2), int64(4)\n",
      "memory usage: 7.8 KB\n"
     ]
    }
   ],
   "source": [
    "full_health_data.dropna(axis = 0, inplace= True)\n",
    "\n",
    "full_health_data.info() #check the data types\n",
    "# We can’t use the object type of Data,\n",
    "#So if we found Object data use \"astype()\" function and convert to float or int\n",
    "#Example -->  full_health_data[\"Max_Pluse\"].astype(float)"
   ]
  },
  {
   "cell_type": "markdown",
   "id": "7cd0ccce-7fe2-4ecc-9901-d720b2a617b7",
   "metadata": {},
   "source": [
    "All Data types can be calulateble and analysable , Start analyzing the data"
   ]
  },
  {
   "cell_type": "markdown",
   "id": "c401af36-8af5-4779-84bd-6b17a98e3324",
   "metadata": {},
   "source": [
    "Mathematical Functions "
   ]
  },
  {
   "cell_type": "code",
   "execution_count": 22,
   "id": "afc63a29-2740-4be7-a202-ef76a5b83ef9",
   "metadata": {},
   "outputs": [
    {
     "name": "stdout",
     "output_type": "stream",
     "text": [
      "Maximum average pulse:  159\n",
      "Minimum average pulse:  80\n",
      "Mean value of  average pulse:  107.7239263803681\n"
     ]
    }
   ],
   "source": [
    "#Finding Maximun value\n",
    "max_average_pulse = full_health_data[\"Average_Pulse\"].max()\n",
    "print(\"Maximum average pulse: \", max_average_pulse)\n",
    "\n",
    "#Finding Minimum value\n",
    "min_average_pulse = full_health_data[\"Average_Pulse\"].min()\n",
    "print(\"Minimum average pulse: \", min_average_pulse)\n",
    "\n",
    "#Finding Mean value\n",
    "mean_average_pulse = np.mean( full_health_data[\"Average_Pulse\"])\n",
    "print(\"Mean value of  average pulse: \", mean_average_pulse)\n"
   ]
  },
  {
   "cell_type": "markdown",
   "id": "91d71873-5784-4289-b106-be840caa2aab",
   "metadata": {},
   "source": [
    "Statistic Function"
   ]
  },
  {
   "cell_type": "code",
   "execution_count": 27,
   "id": "66aa6615-c883-4a2c-b906-d96d5d98a11a",
   "metadata": {},
   "outputs": [
    {
     "data": {
      "text/html": [
       "<div>\n",
       "<style scoped>\n",
       "    .dataframe tbody tr th:only-of-type {\n",
       "        vertical-align: middle;\n",
       "    }\n",
       "\n",
       "    .dataframe tbody tr th {\n",
       "        vertical-align: top;\n",
       "    }\n",
       "\n",
       "    .dataframe thead th {\n",
       "        text-align: right;\n",
       "    }\n",
       "</style>\n",
       "<table border=\"1\" class=\"dataframe\">\n",
       "  <thead>\n",
       "    <tr style=\"text-align: right;\">\n",
       "      <th></th>\n",
       "      <th>Duration</th>\n",
       "      <th>Average_Pulse</th>\n",
       "      <th>Max_Pulse</th>\n",
       "      <th>Calorie_Burnage</th>\n",
       "      <th>Hours_Work</th>\n",
       "      <th>Hours_Sleep</th>\n",
       "    </tr>\n",
       "  </thead>\n",
       "  <tbody>\n",
       "    <tr>\n",
       "      <th>count</th>\n",
       "      <td>163.000000</td>\n",
       "      <td>163.000000</td>\n",
       "      <td>163.000000</td>\n",
       "      <td>163.000000</td>\n",
       "      <td>163.000000</td>\n",
       "      <td>163.000000</td>\n",
       "    </tr>\n",
       "    <tr>\n",
       "      <th>mean</th>\n",
       "      <td>64.263804</td>\n",
       "      <td>107.723926</td>\n",
       "      <td>134.226994</td>\n",
       "      <td>382.368098</td>\n",
       "      <td>4.386503</td>\n",
       "      <td>7.680982</td>\n",
       "    </tr>\n",
       "    <tr>\n",
       "      <th>std</th>\n",
       "      <td>42.994520</td>\n",
       "      <td>14.625062</td>\n",
       "      <td>16.403967</td>\n",
       "      <td>274.227106</td>\n",
       "      <td>3.923772</td>\n",
       "      <td>0.663934</td>\n",
       "    </tr>\n",
       "    <tr>\n",
       "      <th>min</th>\n",
       "      <td>15.000000</td>\n",
       "      <td>80.000000</td>\n",
       "      <td>100.000000</td>\n",
       "      <td>50.000000</td>\n",
       "      <td>0.000000</td>\n",
       "      <td>5.000000</td>\n",
       "    </tr>\n",
       "    <tr>\n",
       "      <th>25%</th>\n",
       "      <td>45.000000</td>\n",
       "      <td>100.000000</td>\n",
       "      <td>124.000000</td>\n",
       "      <td>256.500000</td>\n",
       "      <td>0.000000</td>\n",
       "      <td>7.500000</td>\n",
       "    </tr>\n",
       "    <tr>\n",
       "      <th>50%</th>\n",
       "      <td>60.000000</td>\n",
       "      <td>105.000000</td>\n",
       "      <td>131.000000</td>\n",
       "      <td>320.000000</td>\n",
       "      <td>5.000000</td>\n",
       "      <td>8.000000</td>\n",
       "    </tr>\n",
       "    <tr>\n",
       "      <th>75%</th>\n",
       "      <td>60.000000</td>\n",
       "      <td>111.000000</td>\n",
       "      <td>141.000000</td>\n",
       "      <td>388.500000</td>\n",
       "      <td>8.000000</td>\n",
       "      <td>8.000000</td>\n",
       "    </tr>\n",
       "    <tr>\n",
       "      <th>max</th>\n",
       "      <td>300.000000</td>\n",
       "      <td>159.000000</td>\n",
       "      <td>184.000000</td>\n",
       "      <td>1860.000000</td>\n",
       "      <td>11.000000</td>\n",
       "      <td>12.000000</td>\n",
       "    </tr>\n",
       "  </tbody>\n",
       "</table>\n",
       "</div>"
      ],
      "text/plain": [
       "         Duration  Average_Pulse   Max_Pulse  Calorie_Burnage  Hours_Work  \\\n",
       "count  163.000000     163.000000  163.000000       163.000000  163.000000   \n",
       "mean    64.263804     107.723926  134.226994       382.368098    4.386503   \n",
       "std     42.994520      14.625062   16.403967       274.227106    3.923772   \n",
       "min     15.000000      80.000000  100.000000        50.000000    0.000000   \n",
       "25%     45.000000     100.000000  124.000000       256.500000    0.000000   \n",
       "50%     60.000000     105.000000  131.000000       320.000000    5.000000   \n",
       "75%     60.000000     111.000000  141.000000       388.500000    8.000000   \n",
       "max    300.000000     159.000000  184.000000      1860.000000   11.000000   \n",
       "\n",
       "       Hours_Sleep  \n",
       "count   163.000000  \n",
       "mean      7.680982  \n",
       "std       0.663934  \n",
       "min       5.000000  \n",
       "25%       7.500000  \n",
       "50%       8.000000  \n",
       "75%       8.000000  \n",
       "max      12.000000  "
      ]
     },
     "execution_count": 27,
     "metadata": {},
     "output_type": "execute_result"
    }
   ],
   "source": [
    "full_health_data.describe()"
   ]
  },
  {
   "cell_type": "markdown",
   "id": "9cd1b020-cdfb-435b-b73d-a335f3371130",
   "metadata": {},
   "source": [
    "Linear Function : output = slope * input + intercept\n",
    "\n",
    "(--> To find the relationship between two variable: choose Average_Pulse and Calorie_Burnage)"
   ]
  },
  {
   "cell_type": "code",
   "execution_count": 38,
   "id": "d809006f-a988-49e8-befc-0ce3cfffe61e",
   "metadata": {},
   "outputs": [
    {
     "data": {
      "image/png": "[encoded data removed]",
      "text/plain": [
       "<Figure size 640x480 with 1 Axes>"
      ]
     },
     "metadata": {},
     "output_type": "display_data"
    }
   ],
   "source": [
    "import sys\n",
    "plt.close('all')\n",
    "matplotlib.use(\"Agg\")\n",
    "matplotlib.use(\"module://ipykernel.pylab.backend_inline\")\n",
    "\n",
    "full_health_data.plot(x= \"Average_Pulse\", y= \"Calorie_Burnage\", kind= \"scatter\")\n",
    "plt.ylim(ymin=0)\n",
    "plt.xlim(xmin=0)\n",
    "\n",
    "plt.show()"
   ]
  },
  {
   "cell_type": "markdown",
   "id": "39113a28-105e-4d45-8d47-e1338d40cb11",
   "metadata": {},
   "source": [
    "Findig slope and intercept"
   ]
  },
  {
   "cell_type": "code",
   "execution_count": 44,
   "id": "8ae85004-fc63-4a0d-bddc-c697a9b335ad",
   "metadata": {},
   "outputs": [
    {
     "name": "stdout",
     "output_type": "stream",
     "text": [
      "[3.29563474e-01 3.46866227e+02]\n",
      "Slope: 0.33\n",
      "Intercept: 346.87\n"
     ]
    }
   ],
   "source": [
    "# extracts the columns\n",
    "x= full_health_data[\"Average_Pulse\"]\n",
    "y= full_health_data[\"Calorie_Burnage\"]\n",
    "\n",
    "slope_intercept = np.polyfit(x,y,1)\n",
    "\n",
    "print(slope_intercept)\n",
    "print(\"Slope:\", round(slope,2))#large Slope may strong relationship \n",
    "print(\"Intercept:\",round(intercept,2))#intercept shows the value of y when x is not present\n"
   ]
  },
  {
   "cell_type": "markdown",
   "id": "de069c3a-7041-4411-ad56-8e9d7d1e2673",
   "metadata": {},
   "source": [
    "Visualizing the Correlation Between Variables by Using Heatmap"
   ]
  },
  {
   "cell_type": "code",
   "execution_count": 47,
   "id": "39b78fbc-1725-481f-a2ae-37573c34bc6f",
   "metadata": {},
   "outputs": [
    {
     "data": {
      "image/png": "[encoded data removed]",
      "text/plain": [
       "<Figure size 640x480 with 2 Axes>"
      ]
     },
     "metadata": {},
     "output_type": "display_data"
    }
   ],
   "source": [
    "import seaborn as sns\n",
    "\n",
    "correlation_full_health = full_health_data.corr()\n",
    "axis_corr = sns.heatmap(correlation_full_health, \n",
    "                        vmin= -1, vmax=1, center=0,\n",
    "                       cmap= \"YlOrRd\",\n",
    "                       square= True)\n",
    "\n",
    "plt.show()"
   ]
  },
  {
   "cell_type": "markdown",
   "id": "d0418d92-4bf9-4309-b152-335c05f0de6c",
   "metadata": {},
   "source": [
    "Linear Regression"
   ]
  },
  {
   "cell_type": "code",
   "execution_count": 5,
   "id": "bfe5e601-d44d-4914-9e43-016c801f142b",
   "metadata": {},
   "outputs": [
    {
     "data": {
      "image/png": "[encoded data removed]",
      "text/plain": [
       "<Figure size 640x480 with 1 Axes>"
      ]
     },
     "metadata": {},
     "output_type": "display_data"
    }
   ],
   "source": [
    "\n",
    "#Perform linear regression\n",
    "slope, intercept, r, p, std_err = stats.linregress(x, y)\n",
    "\n",
    "#Define the regression line function\n",
    "def myfunc(x):\n",
    "  return slope * x + intercept #linear Regression \n",
    "\n",
    "#Calculate the predicted values\n",
    "mymodel = list(map(myfunc, x))\n",
    "\n",
    "plt.scatter(x, y)#create the scatter plot\n",
    "plt.plot(x, slope*x + intercept)#Plot the regression line\n",
    "plt.ylim(ymin=0, ymax=2000)#Set the y-axis limits\n",
    "plt.xlim(xmin=0, xmax=200)#Set the x-axis limits\n",
    "plt.xlabel (\"Average_pulse\")#Set the x-axis label\n",
    "plt.ylabel(\"Calorie_Burnage\")#Set the y-axis label\n",
    "\n",
    "plt.show() #Display the plot"
   ]
  },
  {
   "cell_type": "code",
   "execution_count": 7,
   "id": "57ba1e56-3266-45df-a605-8eb8ed3881e3",
   "metadata": {},
   "outputs": [
    {
     "data": {
      "text/plain": [
       "<Figure size 640x480 with 0 Axes>"
      ]
     },
     "metadata": {},
     "output_type": "display_data"
    }
   ],
   "source": [
    "#Two lines to make our compiler able to draw\n",
    "import io\n",
    "buffer = io.BytesIO()\n",
    "plt.savefig(buffer, format=\"png\")  # Save the plot to the buffer"
   ]
  },
  {
   "cell_type": "markdown",
   "id": "9caf5b84-a3dd-4d1d-8ae5-5d5b2742d621",
   "metadata": {},
   "source": [
    "Regression Table"
   ]
  },
  {
   "cell_type": "code",
   "execution_count": 48,
   "id": "0dbb6f75-9669-492f-b70a-5ce83ac51fad",
   "metadata": {},
   "outputs": [
    {
     "name": "stdout",
     "output_type": "stream",
     "text": [
      "                            OLS Regression Results                            \n",
      "==============================================================================\n",
      "Dep. Variable:        Calorie_Burnage   R-squared:                       0.000\n",
      "Model:                            OLS   Adj. R-squared:                 -0.006\n",
      "Method:                 Least Squares   F-statistic:                   0.04975\n",
      "Date:                Sun, 12 May 2024   Prob (F-statistic):              0.824\n",
      "Time:                        10:12:15   Log-Likelihood:                -1145.8\n",
      "No. Observations:                 163   AIC:                             2296.\n",
      "Df Residuals:                     161   BIC:                             2302.\n",
      "Df Model:                           1                                         \n",
      "Covariance Type:            nonrobust                                         \n",
      "=================================================================================\n",
      "                    coef    std err          t      P>|t|      [0.025      0.975]\n",
      "---------------------------------------------------------------------------------\n",
      "Intercept       346.8662    160.615      2.160      0.032      29.682     664.050\n",
      "Average_Pulse     0.3296      1.478      0.223      0.824      -2.588       3.247\n",
      "==============================================================================\n",
      "Omnibus:                      124.542   Durbin-Watson:                   1.620\n",
      "Prob(Omnibus):                  0.000   Jarque-Bera (JB):              938.541\n",
      "Skew:                           2.927   Prob(JB):                    1.58e-204\n",
      "Kurtosis:                      13.195   Cond. No.                         811.\n",
      "==============================================================================\n",
      "\n",
      "Notes:\n",
      "[1] Standard Errors assume that the covariance matrix of the errors is correctly specified.\n"
     ]
    }
   ],
   "source": [
    "import statsmodels.formula.api as smf\n",
    "\n",
    "model= smf.ols(\"Calorie_Burnage ~ Average_Pulse \", data= full_health_data)\n",
    "results = model.fit()\n",
    "print(results.summary())"
   ]
  },
  {
   "cell_type": "markdown",
   "id": "0a0581d8-015e-4d2e-822b-88158e5a1b24",
   "metadata": {},
   "source": [
    "-- > Information Part in Regression Table \n",
    "Dep. Variable(y) = Calorie_Burnage and using Ordinary Least Squares model\n",
    "\n",
    "--> Coefficients Part in Regression Table\n",
    "Coef is the output of Linear regression function,\n",
    "If Average_Pulse increases by 1, Calorie_Burnage increases by 0.3296 (or 0,3 rounded)\n",
    "If Average_Pulse = 0, the Calorie_Burnage is equal to 346.8662 (or 346.9 rounded)."
   ]
  },
  {
   "cell_type": "markdown",
   "id": "ebe547e7-0b04-42f9-b323-ee2785e7b315",
   "metadata": {},
   "source": [
    "Define the Linear Regression Function to perform predictions"
   ]
  },
  {
   "cell_type": "code",
   "execution_count": 49,
   "id": "74bb2109-43c5-417b-8db4-f95b4d395a9f",
   "metadata": {},
   "outputs": [
    {
     "name": "stdout",
     "output_type": "stream",
     "text": [
      "386.4182\n",
      "389.7142\n",
      "396.3062\n",
      "406.1942\n"
     ]
    }
   ],
   "source": [
    "def Predict_Calorie_Burnage(Average_Pulse):\n",
    "    return (0.3296 * Average_Pulse + 346.8662)\n",
    "\n",
    "print(Predict_Calorie_Burnage(120))\n",
    "print(Predict_Calorie_Burnage(130))\n",
    "print(Predict_Calorie_Burnage(150))\n",
    "print(Predict_Calorie_Burnage(180))"
   ]
  },
  {
   "cell_type": "markdown",
   "id": "dd8c6c70-9c93-45f3-b725-4d288b250fa7",
   "metadata": {},
   "source": [
    "--> Hypothesis Testing and P-value\n",
    "\n",
    "The P-value of Average_Pulse is 0.824. So, we cannot conclude a relationship between Average_Pulse and Calorie_Burnage.\n",
    "A low P-value (< 0.05) means that the coefficient is likely not to equal zero.\n",
    "A high P-value (> 0.05) means that we cannot conclude that the explanatory variable\n",
    "\n",
    "\n"
   ]
  },
  {
   "cell_type": "markdown",
   "id": "9f8e4771-94f8-44f9-94e3-4af53d103567",
   "metadata": {},
   "source": [
    "--> R - Squared\n",
    "\n",
    "To ckeck how well the linear regression model fits the data points\n",
    "\n",
    "The value of R-Squared is always between 0 to 1 (0% to 100%).\n",
    "\n",
    "A high R-Squared value means that many data points are close to the linear regression function line.\n",
    "A low R-Squared value means that the linear regression function line does not fit the data well.\n",
    "\n",
    "Our regression model shows a R-Squared value of zero, which means that the linear regression function line does not fit the data well."
   ]
  },
  {
   "cell_type": "markdown",
   "id": "b8349475-9377-4329-a1df-271ee64c3ff6",
   "metadata": {},
   "source": [
    ">> \" Thank You So much for your attention !! \""
   ]
  },
  {
   "cell_type": "code",
   "execution_count": null,
   "id": "daea9d28-a683-4c63-857f-80be4808f7ca",
   "metadata": {},
   "outputs": [],
   "source": []
  }
 ],
 "metadata": {
  "kernelspec": {
   "display_name": "Python 3 (ipykernel)",
   "language": "python",
   "name": "python3"
  },
  "language_info": {
   "codemirror_mode": {
    "name": "ipython",
    "version": 3
   },
   "file_extension": ".py",
   "mimetype": "text/x-python",
   "name": "python",
   "nbconvert_exporter": "python",
   "pygments_lexer": "ipython3",
   "version": "3.11.5"
  }
 },
 "nbformat": 4,
 "nbformat_minor": 5
}
